{
 "cells": [
  {
   "cell_type": "code",
   "execution_count": 1,
   "id": "d5b80c56-5fe8-4f6e-b14b-1e6bd087f2f6",
   "metadata": {},
   "outputs": [],
   "source": [
    "import torch\n",
    "from torchvision import datasets, transforms\n",
    "import matplotlib.pyplot as plt\n",
    "from datetime import datetime\n",
    "import numpy as np\n",
    "from torch.utils.data import random_split\n",
    "from collections import Counter\n",
    "from classes.MyMLP import MyMLP\n"
   ]
  },
  {
   "cell_type": "code",
   "execution_count": 2,
   "id": "63d4402d-8037-45a2-9a27-be9201faf1a3",
   "metadata": {},
   "outputs": [
    {
     "name": "stdout",
     "output_type": "stream",
     "text": [
      "Using device: cuda\n"
     ]
    }
   ],
   "source": [
    "SEED = 808\n",
    "torch.manual_seed(SEED)\n",
    "\n",
    "DEVICE = (torch.device('cuda') if torch.cuda.is_available() else torch.device('cpu'))\n",
    "print(f\"Using device: {DEVICE}\")\n",
    "\n",
    "torch.set_default_dtype(torch.double)"
   ]
  },
  {
   "cell_type": "code",
   "execution_count": 3,
   "id": "2d6b085b-5d2c-42d3-a0a6-7ecc6d7bc852",
   "metadata": {},
   "outputs": [
    {
     "name": "stdout",
     "output_type": "stream",
     "text": [
      "Files already downloaded and verified\n",
      "Files already downloaded and verified\n",
      "Size of training set:  8956\n",
      "Size of validation set:  1044\n",
      "Size of test set:  2000\n"
     ]
    }
   ],
   "source": [
    "def load_CIFAR2(train_val_split=.9, data_path='data', preprocessor=None):\n",
    "    data_train_val = datasets.CIFAR10(\n",
    "        data_path,\n",
    "        train=True,\n",
    "        download=True,\n",
    "        transform=preprocessor)\n",
    "    \n",
    "    data_test = datasets.CIFAR10(\n",
    "        data_path,\n",
    "        train=False,\n",
    "        download=True,\n",
    "        transform=preprocessor)\n",
    "\n",
    "    n_train = int(len(data_train_val)*train_val_split)\n",
    "    n_val = len(data_train_val) - n_train\n",
    "\n",
    "    data_train, data_val = random_split(\n",
    "        data_train_val,\n",
    "        [n_train, n_val],\n",
    "        generator=torch.Generator()\n",
    "    )\n",
    "    \n",
    "    label_map = {0: 0, 2: 1}\n",
    "    class_names = ['airplane', 'bird']\n",
    "    \n",
    "    data_train = [(img, label_map[label]) for img, label in data_train if label in [0, 2]]\n",
    "    data_val = [(img, label_map[label]) for img, label in data_val if label in [0, 2]]\n",
    "    data_test = [(img, label_map[label]) for img, label in data_test if label in [0, 2]]\n",
    "\n",
    "    print(\"Size of training set: \", len(data_train))\n",
    "    print(\"Size of validation set: \", len(data_val))\n",
    "    print(\"Size of test set: \", len(data_test))\n",
    "\n",
    "    return (data_train, data_val, data_test)\n",
    "\n",
    "cifar_train, cifar_val, cifar_test = load_CIFAR2()"
   ]
  },
  {
   "cell_type": "code",
   "execution_count": 4,
   "id": "904bfafe-5ffd-4795-bba2-52be61c4c679",
   "metadata": {},
   "outputs": [],
   "source": [
    "def train(n_epochs, optimizer, model, loss_fn, train_loader):\n",
    "    n_batch = len(train_loader)\n",
    "    losses_train = []\n",
    "    losses_val = []\n",
    "\n",
    "    for epoch in range(1, n_epochs+1):\n",
    "        model.train()\n",
    "        loss_train = 0.0\n",
    "        for imgs, labels in train_loader:\n",
    "            imgs = imgs.to(device=DEVICE, dtype=torch.double)\n",
    "            labels = labels.to(device=DEVICE)\n",
    "\n",
    "            outputs = model(imgs)\n",
    "\n",
    "            loss = loss_fn(outputs,labels)\n",
    "            loss.backward()\n",
    "\n",
    "            optimizer.step()\n",
    "            optimizer.zero_grad()\n",
    "\n",
    "            loss_train += loss.item()\n",
    "\n",
    "        losses_train.append(loss_train / n_batch)\n",
    "\n",
    "        if epoch == 1 or epoch % 10 == 0:\n",
    "            print(f\"{datetime.now().time()}, {epoch}, train_loss: {loss/n_batch}\")"
   ]
  },
  {
   "cell_type": "code",
   "execution_count": null,
   "id": "70a1a24c-5529-4fea-945c-2b169d922f08",
   "metadata": {},
   "outputs": [],
   "source": [
    "def train_manual_update(n_epochs, lr, model, loss_fn, train_loader):\n",
    "    pass"
   ]
  }
 ],
 "metadata": {
  "kernelspec": {
   "display_name": "Python 3 (ipykernel)",
   "language": "python",
   "name": "python3"
  },
  "language_info": {
   "codemirror_mode": {
    "name": "ipython",
    "version": 3
   },
   "file_extension": ".py",
   "mimetype": "text/x-python",
   "name": "python",
   "nbconvert_exporter": "python",
   "pygments_lexer": "ipython3",
   "version": "3.10.12"
  }
 },
 "nbformat": 4,
 "nbformat_minor": 5
}
